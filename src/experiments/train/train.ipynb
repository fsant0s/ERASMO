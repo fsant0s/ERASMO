{
 "cells": [
  {
   "cell_type": "markdown",
   "id": "bottom-anniversary",
   "metadata": {},
   "source": [
    "### For test purpose"
   ]
  },
  {
   "cell_type": "code",
   "execution_count": 20,
   "id": "abstract-giving",
   "metadata": {},
   "outputs": [
    {
     "name": "stdout",
     "output_type": "stream",
     "text": [
      "Limpando cache\n"
     ]
    }
   ],
   "source": [
    "\n",
    "import os\n",
    "os.environ[\"CUDA_VISIBLE_DEVICES\"]=\"0,1,2\"\n",
    "\n",
    "import pandas as pd\n",
    "import matplotlib.pyplot as plt\n",
    "\n",
    "import torch\n",
    "from transformers import AutoTokenizer, AutoModelForCausalLM, TrainingArguments, Trainer\n",
    "from datasets import Dataset\n",
    "\n",
    "print(\"Limpando cache\")\n",
    "torch.cuda.empty_cache()\n",
    "import random\n",
    "import re\n",
    "\n"
   ]
  },
  {
   "cell_type": "code",
   "execution_count": 8,
   "id": "humanitarian-penguin",
   "metadata": {},
   "outputs": [],
   "source": [
    "# Smaller than the original GPT-2, only 6 layers (instead of 12), 12 heads, 768 dimensions (like GPT-2)\n",
    "model_name = \"gpt2-medium\" # \"gpt2-medium\" # distilgpt2 #gpt2-large it reachs the maximum gpu capacity\n",
    "experiment_name = \"oil\""
   ]
  },
  {
   "cell_type": "markdown",
   "id": "falling-holocaust",
   "metadata": {},
   "source": [
    "## Load data"
   ]
  },
  {
   "cell_type": "code",
   "execution_count": 7,
   "id": "included-yacht",
   "metadata": {},
   "outputs": [
    {
     "name": "stdout",
     "output_type": "stream",
     "text": [
      "(90053, 13)      customer_city customer_state  review_score review_comment_title  \\\n",
      "0   rio de janeiro             RJ             5           Sem titulo   \n",
      "1  mogi das cruzes             SP             1           Sem titulo   \n",
      "2         londrina             PR             4           Sem titulo   \n",
      "3           cuiaba             MT             5           Sem titulo   \n",
      "4       bom jardim             RJ             3           Sem titulo   \n",
      "\n",
      "                              review_comment_message    price  \\\n",
      "0                                     Sem comentario    97.65   \n",
      "1  Comprei 2 produtos paguei frete pelos dois pro...    29.99   \n",
      "2                                     Sem comentario    85.00   \n",
      "3                                     Sem comentario    56.99   \n",
      "4                                     Sem comentario  1099.00   \n",
      "\n",
      "   product_category_name payment_type  payment_installments  payment_value  \\\n",
      "0           beleza_saude  credit_card                     5         106.08   \n",
      "1       moveis_decoracao  credit_card                     3          77.42   \n",
      "2  utilidades_domesticas  credit_card                     3         110.43   \n",
      "3             perfumaria  credit_card                     5         145.66   \n",
      "4        eletroportateis  credit_card                     6        1140.23   \n",
      "\n",
      "   seller_city seller_state product_category  \n",
      "0  teresopolis           RJ  Beauty & Health  \n",
      "1    sao paulo           SP        Furniture  \n",
      "2    sao paulo           SP    Home & Garden  \n",
      "3  santo andre           SP  Beauty & Health  \n",
      "4    guarulhos           SP      Electronics  \n"
     ]
    }
   ],
   "source": [
    "df = pd.read_csv(f\"/hadatasets/fillipe.silva/LLMSegm/data/{experiment_name}/train.csv\")\n",
    "columns = df.columns.tolist()\n",
    "ds = Dataset.from_pandas(df)\n",
    "print(df.shape, df.head())"
   ]
  },
  {
   "cell_type": "markdown",
   "id": "applied-external",
   "metadata": {},
   "source": [
    "### Prepare the tabular data"
   ]
  },
  {
   "cell_type": "code",
   "execution_count": 8,
   "id": "juvenile-surgery",
   "metadata": {},
   "outputs": [
    {
     "name": "stderr",
     "output_type": "stream",
     "text": [
      "Map: 100%|██████████| 90053/90053 [00:18<00:00, 4751.90 examples/s]\n"
     ]
    },
    {
     "name": "stdout",
     "output_type": "stream",
     "text": [
      "product_category_name is beleza_saude, payment_value is 106.08, product_category is Beauty & Health, price is 97.65, seller_state is RJ, review_comment_title is Sem titulo, review_score is 5, payment_type is credit_card, seller_city is teresopolis, customer_city is rio de janeiro, customer_state is RJ, review_comment_message is Sem comentario, payment_installments is 5, \n"
     ]
    }
   ],
   "source": [
    "def combine_data_ordered(sample):\n",
    "    concat = \"\"\n",
    "    for col in columns:\n",
    "        concat += \"%s is %s, \" % (col, str(sample[col]).strip())\n",
    "\n",
    "    return {\"concat\": concat}\n",
    "\n",
    "def combine_data_shuffled(sample):\n",
    "    concat = \"\"\n",
    "    for col in random.sample(columns, k=len(columns)):\n",
    "        concat += \"%s is %s, \" % (col, str(sample[col]).strip())\n",
    "\n",
    "    return {\"concat\": concat}\n",
    "\n",
    "# Shuffle the features or not\n",
    "shuffle = True \n",
    "if shuffle:\n",
    "    combined_ds = ds.map(combine_data_shuffled)\n",
    "else:\n",
    "    combined_ds = ds.map(combine_data_ordered)\n",
    "\n",
    "combined_ds = combined_ds.remove_columns(ds.column_names)\n",
    "print(combined_ds[\"concat\"][0])"
   ]
  },
  {
   "cell_type": "markdown",
   "id": "minimal-elephant",
   "metadata": {},
   "source": [
    "### Tokenize the data"
   ]
  },
  {
   "cell_type": "code",
   "execution_count": 9,
   "id": "retired-value",
   "metadata": {},
   "outputs": [
    {
     "name": "stderr",
     "output_type": "stream",
     "text": [
      "/home/fillipe.silva/miniconda3/envs/llmsegm/lib/python3.12/site-packages/huggingface_hub/file_download.py:1132: FutureWarning: `resume_download` is deprecated and will be removed in version 1.0.0. Downloads always resume when possible. If you want to force a new download, use `force_download=True`.\n",
      "  warnings.warn(\n",
      "Map: 100%|██████████| 90053/90053 [00:12<00:00, 7359.52 examples/s]\n"
     ]
    }
   ],
   "source": [
    "# Load tokenizer\n",
    "tokenizer = AutoTokenizer.from_pretrained(model_name)\n",
    "tokenizer.pad_token = tokenizer.eos_token\n",
    "\n",
    "max_length = 125\n",
    "def tokenizer_function(sample):\n",
    "    result = tokenizer(sample[\"concat\"], truncation=True, padding=\"max_length\", max_length=max_length)\n",
    "    result[\"labels\"] = result[\"input_ids\"].copy()\n",
    "    return result\n",
    "\n",
    "# Tokenize dataset and create pytorch tensors\n",
    "tokenizer_ds = combined_ds.map(tokenizer_function, batched=True)\n",
    "tokenizer_ds.set_format(\"torch\")"
   ]
  },
  {
   "cell_type": "markdown",
   "id": "metric-second",
   "metadata": {},
   "source": [
    "### Train Model"
   ]
  },
  {
   "cell_type": "code",
   "execution_count": 10,
   "id": "harmful-address",
   "metadata": {},
   "outputs": [],
   "source": [
    "model = AutoModelForCausalLM.from_pretrained(model_name)\n",
    "epochs = 25\n",
    "batch_size = 16\n",
    "training_args = TrainingArguments(f\"/hadatasets/fillipe.silva/LLMSegm/models/{experiment_name}\", \n",
    "                                  num_train_epochs=epochs, \n",
    "                                  per_device_train_batch_size=batch_size,\n",
    "                                  save_steps=5000)\n",
    "trainer = Trainer(model, training_args, train_dataset=tokenizer_ds, tokenizer=tokenizer)"
   ]
  },
  {
   "cell_type": "code",
   "execution_count": 12,
   "id": "organic-spice",
   "metadata": {
    "scrolled": true
   },
   "outputs": [
    {
     "data": {
      "text/html": [
       "\n",
       "    <div>\n",
       "      \n",
       "      <progress value='35200' max='35200' style='width:300px; height:20px; vertical-align: middle;'></progress>\n",
       "      [35200/35200 4:36:30, Epoch 25/25]\n",
       "    </div>\n",
       "    <table border=\"1\" class=\"dataframe\">\n",
       "  <thead>\n",
       " <tr style=\"text-align: left;\">\n",
       "      <th>Step</th>\n",
       "      <th>Training Loss</th>\n",
       "    </tr>\n",
       "  </thead>\n",
       "  <tbody>\n",
       "    <tr>\n",
       "      <td>500</td>\n",
       "      <td>1.023500</td>\n",
       "    </tr>\n",
       "    <tr>\n",
       "      <td>1000</td>\n",
       "      <td>0.777800</td>\n",
       "    </tr>\n",
       "    <tr>\n",
       "      <td>1500</td>\n",
       "      <td>0.741500</td>\n",
       "    </tr>\n",
       "    <tr>\n",
       "      <td>2000</td>\n",
       "      <td>0.713900</td>\n",
       "    </tr>\n",
       "    <tr>\n",
       "      <td>2500</td>\n",
       "      <td>0.699100</td>\n",
       "    </tr>\n",
       "    <tr>\n",
       "      <td>3000</td>\n",
       "      <td>0.689100</td>\n",
       "    </tr>\n",
       "    <tr>\n",
       "      <td>3500</td>\n",
       "      <td>0.677900</td>\n",
       "    </tr>\n",
       "    <tr>\n",
       "      <td>4000</td>\n",
       "      <td>0.667700</td>\n",
       "    </tr>\n",
       "    <tr>\n",
       "      <td>4500</td>\n",
       "      <td>0.661400</td>\n",
       "    </tr>\n",
       "    <tr>\n",
       "      <td>5000</td>\n",
       "      <td>0.659900</td>\n",
       "    </tr>\n",
       "    <tr>\n",
       "      <td>5500</td>\n",
       "      <td>0.652700</td>\n",
       "    </tr>\n",
       "    <tr>\n",
       "      <td>6000</td>\n",
       "      <td>0.646300</td>\n",
       "    </tr>\n",
       "    <tr>\n",
       "      <td>6500</td>\n",
       "      <td>0.642400</td>\n",
       "    </tr>\n",
       "    <tr>\n",
       "      <td>7000</td>\n",
       "      <td>0.641000</td>\n",
       "    </tr>\n",
       "    <tr>\n",
       "      <td>7500</td>\n",
       "      <td>0.633700</td>\n",
       "    </tr>\n",
       "    <tr>\n",
       "      <td>8000</td>\n",
       "      <td>0.632300</td>\n",
       "    </tr>\n",
       "    <tr>\n",
       "      <td>8500</td>\n",
       "      <td>0.631800</td>\n",
       "    </tr>\n",
       "    <tr>\n",
       "      <td>9000</td>\n",
       "      <td>0.623700</td>\n",
       "    </tr>\n",
       "    <tr>\n",
       "      <td>9500</td>\n",
       "      <td>0.626500</td>\n",
       "    </tr>\n",
       "    <tr>\n",
       "      <td>10000</td>\n",
       "      <td>0.621100</td>\n",
       "    </tr>\n",
       "    <tr>\n",
       "      <td>10500</td>\n",
       "      <td>0.615100</td>\n",
       "    </tr>\n",
       "    <tr>\n",
       "      <td>11000</td>\n",
       "      <td>0.618000</td>\n",
       "    </tr>\n",
       "    <tr>\n",
       "      <td>11500</td>\n",
       "      <td>0.617800</td>\n",
       "    </tr>\n",
       "    <tr>\n",
       "      <td>12000</td>\n",
       "      <td>0.610100</td>\n",
       "    </tr>\n",
       "    <tr>\n",
       "      <td>12500</td>\n",
       "      <td>0.610200</td>\n",
       "    </tr>\n",
       "    <tr>\n",
       "      <td>13000</td>\n",
       "      <td>0.608900</td>\n",
       "    </tr>\n",
       "    <tr>\n",
       "      <td>13500</td>\n",
       "      <td>0.607900</td>\n",
       "    </tr>\n",
       "    <tr>\n",
       "      <td>14000</td>\n",
       "      <td>0.606200</td>\n",
       "    </tr>\n",
       "    <tr>\n",
       "      <td>14500</td>\n",
       "      <td>0.602800</td>\n",
       "    </tr>\n",
       "    <tr>\n",
       "      <td>15000</td>\n",
       "      <td>0.604000</td>\n",
       "    </tr>\n",
       "    <tr>\n",
       "      <td>15500</td>\n",
       "      <td>0.598400</td>\n",
       "    </tr>\n",
       "    <tr>\n",
       "      <td>16000</td>\n",
       "      <td>0.597100</td>\n",
       "    </tr>\n",
       "    <tr>\n",
       "      <td>16500</td>\n",
       "      <td>0.597300</td>\n",
       "    </tr>\n",
       "    <tr>\n",
       "      <td>17000</td>\n",
       "      <td>0.596800</td>\n",
       "    </tr>\n",
       "    <tr>\n",
       "      <td>17500</td>\n",
       "      <td>0.592700</td>\n",
       "    </tr>\n",
       "    <tr>\n",
       "      <td>18000</td>\n",
       "      <td>0.594500</td>\n",
       "    </tr>\n",
       "    <tr>\n",
       "      <td>18500</td>\n",
       "      <td>0.594200</td>\n",
       "    </tr>\n",
       "    <tr>\n",
       "      <td>19000</td>\n",
       "      <td>0.588600</td>\n",
       "    </tr>\n",
       "    <tr>\n",
       "      <td>19500</td>\n",
       "      <td>0.592300</td>\n",
       "    </tr>\n",
       "    <tr>\n",
       "      <td>20000</td>\n",
       "      <td>0.589100</td>\n",
       "    </tr>\n",
       "    <tr>\n",
       "      <td>20500</td>\n",
       "      <td>0.588700</td>\n",
       "    </tr>\n",
       "    <tr>\n",
       "      <td>21000</td>\n",
       "      <td>0.585700</td>\n",
       "    </tr>\n",
       "    <tr>\n",
       "      <td>21500</td>\n",
       "      <td>0.584300</td>\n",
       "    </tr>\n",
       "    <tr>\n",
       "      <td>22000</td>\n",
       "      <td>0.586100</td>\n",
       "    </tr>\n",
       "    <tr>\n",
       "      <td>22500</td>\n",
       "      <td>0.583900</td>\n",
       "    </tr>\n",
       "    <tr>\n",
       "      <td>23000</td>\n",
       "      <td>0.581800</td>\n",
       "    </tr>\n",
       "    <tr>\n",
       "      <td>23500</td>\n",
       "      <td>0.584800</td>\n",
       "    </tr>\n",
       "    <tr>\n",
       "      <td>24000</td>\n",
       "      <td>0.580900</td>\n",
       "    </tr>\n",
       "    <tr>\n",
       "      <td>24500</td>\n",
       "      <td>0.578300</td>\n",
       "    </tr>\n",
       "    <tr>\n",
       "      <td>25000</td>\n",
       "      <td>0.579200</td>\n",
       "    </tr>\n",
       "    <tr>\n",
       "      <td>25500</td>\n",
       "      <td>0.580800</td>\n",
       "    </tr>\n",
       "    <tr>\n",
       "      <td>26000</td>\n",
       "      <td>0.579200</td>\n",
       "    </tr>\n",
       "    <tr>\n",
       "      <td>26500</td>\n",
       "      <td>0.577200</td>\n",
       "    </tr>\n",
       "    <tr>\n",
       "      <td>27000</td>\n",
       "      <td>0.580400</td>\n",
       "    </tr>\n",
       "    <tr>\n",
       "      <td>27500</td>\n",
       "      <td>0.575300</td>\n",
       "    </tr>\n",
       "    <tr>\n",
       "      <td>28000</td>\n",
       "      <td>0.575100</td>\n",
       "    </tr>\n",
       "    <tr>\n",
       "      <td>28500</td>\n",
       "      <td>0.575000</td>\n",
       "    </tr>\n",
       "    <tr>\n",
       "      <td>29000</td>\n",
       "      <td>0.574500</td>\n",
       "    </tr>\n",
       "    <tr>\n",
       "      <td>29500</td>\n",
       "      <td>0.574900</td>\n",
       "    </tr>\n",
       "    <tr>\n",
       "      <td>30000</td>\n",
       "      <td>0.573200</td>\n",
       "    </tr>\n",
       "    <tr>\n",
       "      <td>30500</td>\n",
       "      <td>0.575400</td>\n",
       "    </tr>\n",
       "    <tr>\n",
       "      <td>31000</td>\n",
       "      <td>0.573300</td>\n",
       "    </tr>\n",
       "    <tr>\n",
       "      <td>31500</td>\n",
       "      <td>0.571200</td>\n",
       "    </tr>\n",
       "    <tr>\n",
       "      <td>32000</td>\n",
       "      <td>0.573000</td>\n",
       "    </tr>\n",
       "    <tr>\n",
       "      <td>32500</td>\n",
       "      <td>0.573500</td>\n",
       "    </tr>\n",
       "    <tr>\n",
       "      <td>33000</td>\n",
       "      <td>0.571900</td>\n",
       "    </tr>\n",
       "    <tr>\n",
       "      <td>33500</td>\n",
       "      <td>0.571900</td>\n",
       "    </tr>\n",
       "    <tr>\n",
       "      <td>34000</td>\n",
       "      <td>0.570600</td>\n",
       "    </tr>\n",
       "    <tr>\n",
       "      <td>34500</td>\n",
       "      <td>0.570900</td>\n",
       "    </tr>\n",
       "    <tr>\n",
       "      <td>35000</td>\n",
       "      <td>0.571900</td>\n",
       "    </tr>\n",
       "  </tbody>\n",
       "</table><p>"
      ],
      "text/plain": [
       "<IPython.core.display.HTML object>"
      ]
     },
     "metadata": {},
     "output_type": "display_data"
    },
    {
     "name": "stderr",
     "output_type": "stream",
     "text": [
      "/home/fillipe.silva/miniconda3/envs/llmsegm/lib/python3.12/site-packages/torch/nn/parallel/_functions.py:68: UserWarning: Was asked to gather along dimension 0, but all input tensors were scalars; will instead unsqueeze and return a vector.\n",
      "  warnings.warn('Was asked to gather along dimension 0, but all '\n",
      "/home/fillipe.silva/miniconda3/envs/llmsegm/lib/python3.12/site-packages/torch/nn/parallel/_functions.py:68: UserWarning: Was asked to gather along dimension 0, but all input tensors were scalars; will instead unsqueeze and return a vector.\n",
      "  warnings.warn('Was asked to gather along dimension 0, but all '\n",
      "/home/fillipe.silva/miniconda3/envs/llmsegm/lib/python3.12/site-packages/torch/nn/parallel/_functions.py:68: UserWarning: Was asked to gather along dimension 0, but all input tensors were scalars; will instead unsqueeze and return a vector.\n",
      "  warnings.warn('Was asked to gather along dimension 0, but all '\n",
      "/home/fillipe.silva/miniconda3/envs/llmsegm/lib/python3.12/site-packages/torch/nn/parallel/_functions.py:68: UserWarning: Was asked to gather along dimension 0, but all input tensors were scalars; will instead unsqueeze and return a vector.\n",
      "  warnings.warn('Was asked to gather along dimension 0, but all '\n",
      "/home/fillipe.silva/miniconda3/envs/llmsegm/lib/python3.12/site-packages/torch/nn/parallel/_functions.py:68: UserWarning: Was asked to gather along dimension 0, but all input tensors were scalars; will instead unsqueeze and return a vector.\n",
      "  warnings.warn('Was asked to gather along dimension 0, but all '\n",
      "/home/fillipe.silva/miniconda3/envs/llmsegm/lib/python3.12/site-packages/torch/nn/parallel/_functions.py:68: UserWarning: Was asked to gather along dimension 0, but all input tensors were scalars; will instead unsqueeze and return a vector.\n",
      "  warnings.warn('Was asked to gather along dimension 0, but all '\n",
      "/home/fillipe.silva/miniconda3/envs/llmsegm/lib/python3.12/site-packages/torch/nn/parallel/_functions.py:68: UserWarning: Was asked to gather along dimension 0, but all input tensors were scalars; will instead unsqueeze and return a vector.\n",
      "  warnings.warn('Was asked to gather along dimension 0, but all '\n"
     ]
    },
    {
     "data": {
      "text/plain": [
       "TrainOutput(global_step=35200, training_loss=0.6144395477121527, metrics={'train_runtime': 16591.1368, 'train_samples_per_second': 135.694, 'train_steps_per_second': 2.122, 'total_flos': 7.1811600344064e+16, 'train_loss': 0.6144395477121527, 'epoch': 25.0})"
      ]
     },
     "execution_count": 12,
     "metadata": {},
     "output_type": "execute_result"
    }
   ],
   "source": [
    "trainer.train() "
   ]
  },
  {
   "cell_type": "markdown",
   "id": "flush-boston",
   "metadata": {},
   "source": [
    "### Save Model"
   ]
  },
  {
   "cell_type": "code",
   "execution_count": 13,
   "id": "ordinary-freight",
   "metadata": {
    "tags": []
   },
   "outputs": [],
   "source": [
    "model_name = model_name + \"_\" + str(epochs) + \".pt\"\n",
    "model_path = f\"/hadatasets/fillipe.silva/LLMSegm/models/{experiment_name}/{model_name}\"\n",
    "torch.save(model.state_dict(), model_path)"
   ]
  },
  {
   "cell_type": "markdown",
   "id": "young-banner",
   "metadata": {},
   "source": [
    "### Look at loss curve"
   ]
  },
  {
   "cell_type": "markdown",
   "id": "quality-monthly",
   "metadata": {},
   "source": [
    "The trainer.state.log_history contains some information about the training.\n",
    "Just saving the loss curve, but one could also save the whole state of the trainer."
   ]
  },
  {
   "cell_type": "code",
   "execution_count": 14,
   "id": "mature-robertson",
   "metadata": {},
   "outputs": [
    {
     "data": {
      "text/plain": [
       "[<matplotlib.lines.Line2D at 0x7f7eb00e26f0>]"
      ]
     },
     "execution_count": 14,
     "metadata": {},
     "output_type": "execute_result"
    },
    {
     "data": {
      "image/png": "[encoded data removed]",
      "text/plain": [
       "<Figure size 640x480 with 1 Axes>"
      ]
     },
     "metadata": {},
     "output_type": "display_data"
    }
   ],
   "source": [
    "rounds = len(trainer.state.log_history) - 1\n",
    "loss = [x[\"loss\"] if i < rounds else None for i, x in enumerate(trainer.state.log_history)]\n",
    "plt.plot(loss)"
   ]
  },
  {
   "cell_type": "markdown",
   "id": "03450d8c",
   "metadata": {},
   "source": [
    "## Getting Embeddings "
   ]
  },
  {
   "cell_type": "code",
   "execution_count": 16,
   "id": "changing-valuation",
   "metadata": {},
   "outputs": [],
   "source": [
    "val_df = pd.read_csv(f\"/hadatasets/fillipe.silva/LLMSegm/data/{experiment_name}/test.csv\")\n",
    "columns = val_df.columns.tolist()\n",
    "ds = Dataset.from_pandas(val_df)"
   ]
  },
  {
   "cell_type": "code",
   "execution_count": 17,
   "id": "b317aecc",
   "metadata": {},
   "outputs": [
    {
     "name": "stderr",
     "output_type": "stream",
     "text": [
      "Map: 100%|██████████| 22514/22514 [00:04<00:00, 4707.15 examples/s]\n"
     ]
    },
    {
     "data": {
      "text/plain": [
       "'seller_city is presidente prudente, customer_state is SP, customer_city is guarulhos, review_comment_message is Sem comentario, review_comment_title is Sem titulo, payment_installments is 1, seller_state is SP, price is 44.88, product_category is Furniture, payment_value is 64.11, review_score is 5, product_category_name is moveis_cozinha_area_de_servico_jantar_e_jardim, payment_type is credit_card, '"
      ]
     },
     "execution_count": 17,
     "metadata": {},
     "output_type": "execute_result"
    }
   ],
   "source": [
    "def combine_data_ordered(sample):\n",
    "    concat = \"\"\n",
    "    for col in columns:\n",
    "        concat += \"%s is %s, \" % (col, str(sample[col]).strip())\n",
    "\n",
    "    return {\"concat\": concat}\n",
    "\n",
    "def combine_data_shuffled(sample):\n",
    "    concat = \"\"\n",
    "    for col in random.sample(columns, k=len(columns)):\n",
    "        concat += \"%s is %s, \" % (col, str(sample[col]).strip())\n",
    "\n",
    "    return {\"concat\": concat}\n",
    "\n",
    "combined_ds = ds.map(combine_data_shuffled)\n",
    "combined_ds[\"concat\"][0]"
   ]
  },
  {
   "cell_type": "code",
   "execution_count": 18,
   "id": "5b86e0fe",
   "metadata": {},
   "outputs": [
    {
     "data": {
      "text/plain": [
       "'other option to do embds (not tested)\\ntoken_ids = tokenizer.encode(\"Your input text goes here\", add_special_tokens=False)\\n\\n# Convert token IDs to tensor and move it to the model\\'s device\\ntokens_tensor = torch.tensor([token_ids], device=model.device)\\nwith torch.no_grad():\\n# Forward pass through the model\\noutputs = model(tokens_tensor)\\n# Retrieve the hidden states from the model output\\nhidden_states = outputs[0]  # \\'outputs\\' is a tuple, the first element is the hidden states\\n\\n# Averaging over the sequence length\\nprint(len((hidden_states[0].mean(dim=0))), (hidden_states[0].mean(dim=0)))\\n'"
      ]
     },
     "execution_count": 18,
     "metadata": {},
     "output_type": "execute_result"
    }
   ],
   "source": [
    "device = torch.device(\"cuda\" if torch.cuda.is_available() else \"cpu\")\n",
    "model.to(device)\n",
    "\n",
    "embs = []\n",
    "for text in combined_ds[\"concat\"]:\n",
    "    inputs = tokenizer(text, return_tensors=\"pt\", padding=True, truncation=True).to(device)\n",
    "    outputs = model(**inputs)\n",
    "\n",
    "    # Extract logits\n",
    "    logits = outputs.logits\n",
    "\n",
    "    # Use logits as text embeddings\n",
    "    text_embedding = logits[:, -1, :]  # Take the last token's logits as the embedding\n",
    "\n",
    "    # Convert tensor to numpy array if needed\n",
    "    text_embedding_np = text_embedding.detach().cpu().numpy()\n",
    "\n",
    "    embs.append(text_embedding_np[0])\n",
    "\n",
    "'''other option to do embds (not tested)\n",
    "token_ids = tokenizer.encode(\"Your input text goes here\", add_special_tokens=False)\n",
    "\n",
    "# Convert token IDs to tensor and move it to the model's device\n",
    "tokens_tensor = torch.tensor([token_ids], device=model.device)\n",
    "with torch.no_grad():\n",
    "# Forward pass through the model\n",
    "outputs = model(tokens_tensor)\n",
    "# Retrieve the hidden states from the model output\n",
    "hidden_states = outputs[0]  # 'outputs' is a tuple, the first element is the hidden states\n",
    "\n",
    "# Averaging over the sequence length\n",
    "print(len((hidden_states[0].mean(dim=0))), (hidden_states[0].mean(dim=0)))\n",
    "'''"
   ]
  },
  {
   "cell_type": "markdown",
   "id": "58c07349",
   "metadata": {},
   "source": [
    "#### Saving embeddings"
   ]
  },
  {
   "cell_type": "code",
   "execution_count": 19,
   "id": "442bc2a2",
   "metadata": {},
   "outputs": [],
   "source": [
    "embedding_df = pd.DataFrame(embs)\n",
    "embedding_df.to_csv(f'/hadatasets/fillipe.silva/LLMSegm/data/{experiment_name}/{model_name.replace(\".pt\",\"\").replace(\"/\",\"\")}_test_embeddings.csv', index=False)"
   ]
  }
 ],
 "metadata": {
  "kernelspec": {
   "display_name": "Python 3 (ipykernel)",
   "language": "python",
   "name": "python3"
  },
  "language_info": {
   "codemirror_mode": {
    "name": "ipython",
    "version": 3
   },
   "file_extension": ".py",
   "mimetype": "text/x-python",
   "name": "python",
   "nbconvert_exporter": "python",
   "pygments_lexer": "ipython3",
   "version": "3.12.3"
  }
 },
 "nbformat": 4,
 "nbformat_minor": 5
}
