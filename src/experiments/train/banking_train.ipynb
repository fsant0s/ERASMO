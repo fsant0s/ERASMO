{
 "cells": [
  {
   "cell_type": "markdown",
   "id": "bottom-anniversary",
   "metadata": {},
   "source": [
    "## Import packages and set config"
   ]
  },
  {
   "cell_type": "code",
   "execution_count": 1,
   "id": "abstract-giving",
   "metadata": {},
   "outputs": [
    {
     "name": "stderr",
     "output_type": "stream",
     "text": [
      "/home/fillipe.silva/miniconda3/envs/llmsegm/lib/python3.12/site-packages/tqdm/auto.py:21: TqdmWarning: IProgress not found. Please update jupyter and ipywidgets. See https://ipywidgets.readthedocs.io/en/stable/user_install.html\n",
      "  from .autonotebook import tqdm as notebook_tqdm\n"
     ]
    }
   ],
   "source": [
    "\n",
    "#import os\n",
    "#os.environ[\"CUDA_VISIBLE_DEVICES\"]=\"0,1,2\"\n",
    "\n",
    "import pandas as pd\n",
    "import matplotlib.pyplot as plt\n",
    "\n",
    "import torch\n",
    "from transformers import AutoTokenizer, AutoModelForCausalLM, TrainingArguments, Trainer\n",
    "from datasets import Dataset\n",
    "\n",
    "import random"
   ]
  },
  {
   "cell_type": "code",
   "execution_count": 2,
   "id": "humanitarian-penguin",
   "metadata": {},
   "outputs": [],
   "source": [
    "# Smaller than the original GPT-2, only 6 layers (instead of 12), 12 heads, 768 dimensions (like GPT-2)\n",
    "model_name = \"distilgpt2\" # \"gpt2-medium\" # distilgpt2 #gpt2-large it reachs the maximum gpu capacity\n",
    "experiment_name = \"banking\""
   ]
  },
  {
   "cell_type": "markdown",
   "id": "falling-holocaust",
   "metadata": {},
   "source": [
    "## Load data"
   ]
  },
  {
   "cell_type": "code",
   "execution_count": 3,
   "id": "included-yacht",
   "metadata": {},
   "outputs": [
    {
     "name": "stdout",
     "output_type": "stream",
     "text": [
      "(45211, 17)    age           job  marital  education default  balance housing loan  \\\n",
      "0   58    management  married   tertiary      no     2143     yes   no   \n",
      "1   44    technician   single  secondary      no       29     yes   no   \n",
      "2   33  entrepreneur  married  secondary      no        2     yes  yes   \n",
      "3   47   blue-collar  married    unknown      no     1506     yes   no   \n",
      "4   33       unknown   single    unknown      no        1      no   no   \n",
      "\n",
      "   contact  day month  duration  campaign  pdays  previous poutcome   y  \n",
      "0  unknown    5   may       261         1     -1         0  unknown  no  \n",
      "1  unknown    5   may       151         1     -1         0  unknown  no  \n",
      "2  unknown    5   may        76         1     -1         0  unknown  no  \n",
      "3  unknown    5   may        92         1     -1         0  unknown  no  \n",
      "4  unknown    5   may       198         1     -1         0  unknown  no  \n"
     ]
    }
   ],
   "source": [
    "df = pd.read_csv(f\"/hadatasets/fillipe.silva/LLMSegm/data/{experiment_name}/train.csv\", sep=\";\")\n",
    "columns = df.columns.tolist()\n",
    "ds = Dataset.from_pandas(df)\n",
    "print(df.shape, df.head())"
   ]
  },
  {
   "cell_type": "markdown",
   "id": "applied-external",
   "metadata": {},
   "source": [
    "### Prepare the tabular data"
   ]
  },
  {
   "cell_type": "code",
   "execution_count": 4,
   "id": "juvenile-surgery",
   "metadata": {},
   "outputs": [
    {
     "name": "stderr",
     "output_type": "stream",
     "text": [
      "Map:   0%|          | 0/45211 [00:00<?, ? examples/s]"
     ]
    },
    {
     "name": "stderr",
     "output_type": "stream",
     "text": [
      "Map: 100%|██████████| 45211/45211 [00:11<00:00, 3894.93 examples/s]\n"
     ]
    },
    {
     "name": "stdout",
     "output_type": "stream",
     "text": [
      "campaign is 1, day is 5, housing is yes, previous is 0, poutcome is unknown, pdays is -1, month is may, education is tertiary, contact is unknown, age is 58, loan is no, marital is married, job is management, duration is 261, balance is 2143, default is no, y is no, \n"
     ]
    }
   ],
   "source": [
    "def combine_data_ordered(sample):\n",
    "    concat = \"\"\n",
    "    for col in columns:\n",
    "        concat += \"%s is %s, \" % (col, str(sample[col]).strip())\n",
    "\n",
    "    return {\"concat\": concat}\n",
    "\n",
    "def combine_data_shuffled(sample):\n",
    "    concat = \"\"\n",
    "    for col in random.sample(columns, k=len(columns)):\n",
    "        concat += \"%s is %s, \" % (col, str(sample[col]).strip())\n",
    "\n",
    "    return {\"concat\": concat}\n",
    "\n",
    "# Shuffle the features or not\n",
    "shuffle = True \n",
    "if shuffle:\n",
    "    combined_ds = ds.map(combine_data_shuffled)\n",
    "else:\n",
    "    combined_ds = ds.map(combine_data_ordered)\n",
    "\n",
    "combined_ds = combined_ds.remove_columns(ds.column_names)\n",
    "print(combined_ds[\"concat\"][0])"
   ]
  },
  {
   "cell_type": "markdown",
   "id": "minimal-elephant",
   "metadata": {},
   "source": [
    "### Tokenize the data"
   ]
  },
  {
   "cell_type": "code",
   "execution_count": 5,
   "id": "retired-value",
   "metadata": {},
   "outputs": [
    {
     "name": "stderr",
     "output_type": "stream",
     "text": [
      "/home/fillipe.silva/miniconda3/envs/llmsegm/lib/python3.12/site-packages/huggingface_hub/file_download.py:1132: FutureWarning: `resume_download` is deprecated and will be removed in version 1.0.0. Downloads always resume when possible. If you want to force a new download, use `force_download=True`.\n",
      "  warnings.warn(\n",
      "Map: 100%|██████████| 45211/45211 [00:05<00:00, 8427.95 examples/s]\n"
     ]
    }
   ],
   "source": [
    "# Load tokenizer\n",
    "tokenizer = AutoTokenizer.from_pretrained(model_name)\n",
    "tokenizer.pad_token = tokenizer.eos_token\n",
    "\n",
    "max_length = 125\n",
    "def tokenizer_function(sample):\n",
    "    result = tokenizer(sample[\"concat\"], truncation=True, padding=\"max_length\", max_length=max_length)\n",
    "    result[\"labels\"] = result[\"input_ids\"].copy()\n",
    "    return result\n",
    "\n",
    "# Tokenize dataset and create pytorch tensors\n",
    "tokenizer_ds = combined_ds.map(tokenizer_function, batched=True)\n",
    "tokenizer_ds.set_format(\"torch\")"
   ]
  },
  {
   "cell_type": "markdown",
   "id": "metric-second",
   "metadata": {},
   "source": [
    "### Train Model"
   ]
  },
  {
   "cell_type": "code",
   "execution_count": 7,
   "id": "harmful-address",
   "metadata": {},
   "outputs": [
    {
     "name": "stderr",
     "output_type": "stream",
     "text": [
      "/home/fillipe.silva/miniconda3/envs/llmsegm/lib/python3.12/site-packages/huggingface_hub/file_download.py:1132: FutureWarning: `resume_download` is deprecated and will be removed in version 1.0.0. Downloads always resume when possible. If you want to force a new download, use `force_download=True`.\n",
      "  warnings.warn(\n"
     ]
    }
   ],
   "source": [
    "model = AutoModelForCausalLM.from_pretrained(model_name)\n",
    "epochs = 25\n",
    "batch_size = 16\n",
    "training_args = TrainingArguments(f\"/hadatasets/fillipe.silva/LLMSegm/models/{experiment_name}\", \n",
    "                                  num_train_epochs=epochs, \n",
    "                                  per_device_train_batch_size=batch_size,\n",
    "                                  save_steps=5000)\n",
    "trainer = Trainer(model, training_args, train_dataset=tokenizer_ds, tokenizer=tokenizer)"
   ]
  },
  {
   "cell_type": "code",
   "execution_count": 8,
   "id": "organic-spice",
   "metadata": {
    "scrolled": true
   },
   "outputs": [
    {
     "name": "stderr",
     "output_type": "stream",
     "text": [
      "/home/fillipe.silva/miniconda3/envs/llmsegm/lib/python3.12/site-packages/torch/nn/parallel/_functions.py:68: UserWarning: Was asked to gather along dimension 0, but all input tensors were scalars; will instead unsqueeze and return a vector.\n",
      "  warnings.warn('Was asked to gather along dimension 0, but all '\n"
     ]
    },
    {
     "data": {
      "text/html": [
       "\n",
       "    <div>\n",
       "      \n",
       "      <progress value='17675' max='17675' style='width:300px; height:20px; vertical-align: middle;'></progress>\n",
       "      [17675/17675 2:18:04, Epoch 25/25]\n",
       "    </div>\n",
       "    <table border=\"1\" class=\"dataframe\">\n",
       "  <thead>\n",
       " <tr style=\"text-align: left;\">\n",
       "      <th>Step</th>\n",
       "      <th>Training Loss</th>\n",
       "    </tr>\n",
       "  </thead>\n",
       "  <tbody>\n",
       "    <tr>\n",
       "      <td>500</td>\n",
       "      <td>0.678500</td>\n",
       "    </tr>\n",
       "    <tr>\n",
       "      <td>1000</td>\n",
       "      <td>0.541300</td>\n",
       "    </tr>\n",
       "    <tr>\n",
       "      <td>1500</td>\n",
       "      <td>0.529600</td>\n",
       "    </tr>\n",
       "    <tr>\n",
       "      <td>2000</td>\n",
       "      <td>0.523800</td>\n",
       "    </tr>\n",
       "    <tr>\n",
       "      <td>2500</td>\n",
       "      <td>0.520100</td>\n",
       "    </tr>\n",
       "    <tr>\n",
       "      <td>3000</td>\n",
       "      <td>0.518000</td>\n",
       "    </tr>\n",
       "    <tr>\n",
       "      <td>3500</td>\n",
       "      <td>0.516100</td>\n",
       "    </tr>\n",
       "    <tr>\n",
       "      <td>4000</td>\n",
       "      <td>0.514200</td>\n",
       "    </tr>\n",
       "    <tr>\n",
       "      <td>4500</td>\n",
       "      <td>0.513200</td>\n",
       "    </tr>\n",
       "    <tr>\n",
       "      <td>5000</td>\n",
       "      <td>0.512200</td>\n",
       "    </tr>\n",
       "    <tr>\n",
       "      <td>5500</td>\n",
       "      <td>0.511200</td>\n",
       "    </tr>\n",
       "    <tr>\n",
       "      <td>6000</td>\n",
       "      <td>0.510000</td>\n",
       "    </tr>\n",
       "    <tr>\n",
       "      <td>6500</td>\n",
       "      <td>0.509800</td>\n",
       "    </tr>\n",
       "    <tr>\n",
       "      <td>7000</td>\n",
       "      <td>0.509100</td>\n",
       "    </tr>\n",
       "    <tr>\n",
       "      <td>7500</td>\n",
       "      <td>0.507600</td>\n",
       "    </tr>\n",
       "    <tr>\n",
       "      <td>8000</td>\n",
       "      <td>0.508000</td>\n",
       "    </tr>\n",
       "    <tr>\n",
       "      <td>8500</td>\n",
       "      <td>0.507200</td>\n",
       "    </tr>\n",
       "    <tr>\n",
       "      <td>9000</td>\n",
       "      <td>0.506400</td>\n",
       "    </tr>\n",
       "    <tr>\n",
       "      <td>9500</td>\n",
       "      <td>0.506200</td>\n",
       "    </tr>\n",
       "    <tr>\n",
       "      <td>10000</td>\n",
       "      <td>0.505800</td>\n",
       "    </tr>\n",
       "    <tr>\n",
       "      <td>10500</td>\n",
       "      <td>0.505300</td>\n",
       "    </tr>\n",
       "    <tr>\n",
       "      <td>11000</td>\n",
       "      <td>0.504300</td>\n",
       "    </tr>\n",
       "    <tr>\n",
       "      <td>11500</td>\n",
       "      <td>0.504800</td>\n",
       "    </tr>\n",
       "    <tr>\n",
       "      <td>12000</td>\n",
       "      <td>0.504400</td>\n",
       "    </tr>\n",
       "    <tr>\n",
       "      <td>12500</td>\n",
       "      <td>0.503600</td>\n",
       "    </tr>\n",
       "    <tr>\n",
       "      <td>13000</td>\n",
       "      <td>0.503200</td>\n",
       "    </tr>\n",
       "    <tr>\n",
       "      <td>13500</td>\n",
       "      <td>0.503400</td>\n",
       "    </tr>\n",
       "    <tr>\n",
       "      <td>14000</td>\n",
       "      <td>0.503000</td>\n",
       "    </tr>\n",
       "    <tr>\n",
       "      <td>14500</td>\n",
       "      <td>0.502800</td>\n",
       "    </tr>\n",
       "    <tr>\n",
       "      <td>15000</td>\n",
       "      <td>0.502500</td>\n",
       "    </tr>\n",
       "    <tr>\n",
       "      <td>15500</td>\n",
       "      <td>0.502000</td>\n",
       "    </tr>\n",
       "    <tr>\n",
       "      <td>16000</td>\n",
       "      <td>0.501900</td>\n",
       "    </tr>\n",
       "    <tr>\n",
       "      <td>16500</td>\n",
       "      <td>0.501700</td>\n",
       "    </tr>\n",
       "    <tr>\n",
       "      <td>17000</td>\n",
       "      <td>0.501800</td>\n",
       "    </tr>\n",
       "    <tr>\n",
       "      <td>17500</td>\n",
       "      <td>0.501400</td>\n",
       "    </tr>\n",
       "  </tbody>\n",
       "</table><p>"
      ],
      "text/plain": [
       "<IPython.core.display.HTML object>"
      ]
     },
     "metadata": {},
     "output_type": "display_data"
    },
    {
     "name": "stderr",
     "output_type": "stream",
     "text": [
      "/home/fillipe.silva/miniconda3/envs/llmsegm/lib/python3.12/site-packages/torch/nn/parallel/_functions.py:68: UserWarning: Was asked to gather along dimension 0, but all input tensors were scalars; will instead unsqueeze and return a vector.\n",
      "  warnings.warn('Was asked to gather along dimension 0, but all '\n",
      "/home/fillipe.silva/miniconda3/envs/llmsegm/lib/python3.12/site-packages/torch/nn/parallel/_functions.py:68: UserWarning: Was asked to gather along dimension 0, but all input tensors were scalars; will instead unsqueeze and return a vector.\n",
      "  warnings.warn('Was asked to gather along dimension 0, but all '\n",
      "/home/fillipe.silva/miniconda3/envs/llmsegm/lib/python3.12/site-packages/torch/nn/parallel/_functions.py:68: UserWarning: Was asked to gather along dimension 0, but all input tensors were scalars; will instead unsqueeze and return a vector.\n",
      "  warnings.warn('Was asked to gather along dimension 0, but all '\n"
     ]
    },
    {
     "data": {
      "text/plain": [
       "TrainOutput(global_step=17675, training_loss=0.5139988404183611, metrics={'train_runtime': 8287.0091, 'train_samples_per_second': 136.391, 'train_steps_per_second': 2.133, 'total_flos': 3.60519024384e+16, 'train_loss': 0.5139988404183611, 'epoch': 25.0})"
      ]
     },
     "execution_count": 8,
     "metadata": {},
     "output_type": "execute_result"
    }
   ],
   "source": [
    "trainer.train() # resume_from_checkpoint = True"
   ]
  },
  {
   "cell_type": "markdown",
   "id": "flush-boston",
   "metadata": {},
   "source": [
    "### Save Model"
   ]
  },
  {
   "cell_type": "code",
   "execution_count": 9,
   "id": "ordinary-freight",
   "metadata": {
    "tags": []
   },
   "outputs": [],
   "source": [
    "model_name = model_name + \"_\" + str(epochs) + \".pt\"\n",
    "model_path = f\"/hadatasets/fillipe.silva/LLMSegm/models/{experiment_name}/{model_name}\"\n",
    "torch.save(model.state_dict(), model_path)"
   ]
  },
  {
   "cell_type": "markdown",
   "id": "young-banner",
   "metadata": {},
   "source": [
    "### Look at loss curve"
   ]
  },
  {
   "cell_type": "markdown",
   "id": "quality-monthly",
   "metadata": {},
   "source": [
    "The trainer.state.log_history contains some information about the training.\n",
    "Just saving the loss curve, but one could also save the whole state of the trainer."
   ]
  },
  {
   "cell_type": "code",
   "execution_count": 10,
   "id": "mature-robertson",
   "metadata": {},
   "outputs": [
    {
     "data": {
      "text/plain": [
       "[<matplotlib.lines.Line2D at 0x7f5d08750800>]"
      ]
     },
     "execution_count": 10,
     "metadata": {},
     "output_type": "execute_result"
    },
    {
     "data": {
      "image/png": "[encoded data removed]",
      "text/plain": [
       "<Figure size 640x480 with 1 Axes>"
      ]
     },
     "metadata": {},
     "output_type": "display_data"
    }
   ],
   "source": [
    "rounds = len(trainer.state.log_history) - 1\n",
    "loss = [x[\"loss\"] if i < rounds else None for i, x in enumerate(trainer.state.log_history)]\n",
    "plt.plot(loss)"
   ]
  },
  {
   "cell_type": "markdown",
   "id": "03450d8c",
   "metadata": {},
   "source": [
    "## Getting Embeddings "
   ]
  },
  {
   "cell_type": "code",
   "execution_count": 11,
   "id": "changing-valuation",
   "metadata": {},
   "outputs": [],
   "source": [
    "val_df = pd.read_csv(f\"/hadatasets/fillipe.silva/LLMSegm/data/{experiment_name}/test.csv\", sep=\";\")\n",
    "columns = val_df.columns.tolist()\n",
    "ds = Dataset.from_pandas(val_df)"
   ]
  },
  {
   "cell_type": "code",
   "execution_count": 12,
   "id": "b317aecc",
   "metadata": {},
   "outputs": [
    {
     "name": "stderr",
     "output_type": "stream",
     "text": [
      "Map: 100%|██████████| 4521/4521 [00:01<00:00, 3440.72 examples/s]\n"
     ]
    },
    {
     "data": {
      "text/plain": [
       "'education is primary, age is 30, duration is 79, default is no, y is no, campaign is 1, marital is married, job is unemployed, contact is cellular, day is 19, pdays is -1, previous is 0, poutcome is unknown, housing is no, balance is 1787, month is oct, loan is no, '"
      ]
     },
     "execution_count": 12,
     "metadata": {},
     "output_type": "execute_result"
    }
   ],
   "source": [
    "def combine_data_ordered(sample):\n",
    "    concat = \"\"\n",
    "    for col in columns:\n",
    "        concat += \"%s is %s, \" % (col, str(sample[col]).strip())\n",
    "\n",
    "    return {\"concat\": concat}\n",
    "\n",
    "def combine_data_shuffled(sample):\n",
    "    concat = \"\"\n",
    "    for col in random.sample(columns, k=len(columns)):\n",
    "        concat += \"%s is %s, \" % (col, str(sample[col]).strip())\n",
    "\n",
    "    return {\"concat\": concat}\n",
    "\n",
    "combined_ds = ds.map(combine_data_shuffled)\n",
    "combined_ds[\"concat\"][0]"
   ]
  },
  {
   "cell_type": "code",
   "execution_count": 19,
   "id": "5b86e0fe",
   "metadata": {},
   "outputs": [
    {
     "data": {
      "text/plain": [
       "'other option to do embds (not tested)\\ntoken_ids = tokenizer.encode(\"Your input text goes here\", add_special_tokens=False)\\n\\n# Convert token IDs to tensor and move it to the model\\'s device\\ntokens_tensor = torch.tensor([token_ids], device=model.device)\\nwith torch.no_grad():\\n# Forward pass through the model\\noutputs = model(tokens_tensor)\\n# Retrieve the hidden states from the model output\\nhidden_states = outputs[0]  # \\'outputs\\' is a tuple, the first element is the hidden states\\n\\n# Averaging over the sequence length\\nprint(len((hidden_states[0].mean(dim=0))), (hidden_states[0].mean(dim=0)))\\n'"
      ]
     },
     "execution_count": 19,
     "metadata": {},
     "output_type": "execute_result"
    }
   ],
   "source": [
    "device = torch.device(\"cuda\" if torch.cuda.is_available() else \"cpu\")\n",
    "model.to(device)\n",
    "\n",
    "embs = []\n",
    "for text in combined_ds[\"concat\"]:\n",
    "    inputs = tokenizer(text, return_tensors=\"pt\", padding=True, truncation=True).to(device)\n",
    "    outputs = model(**inputs)\n",
    "\n",
    "    # Extract logits\n",
    "    logits = outputs.logits\n",
    "\n",
    "    # Use logits as text embeddings\n",
    "    text_embedding = logits[:, -1, :]  # Take the last token's logits as the embedding\n",
    "\n",
    "    # Convert tensor to numpy array if needed\n",
    "    text_embedding_np = text_embedding.detach().cpu().numpy()\n",
    "\n",
    "    embs.append(text_embedding_np[0])\n",
    "\n",
    "'''other option to do embds (not tested)\n",
    "token_ids = tokenizer.encode(\"Your input text goes here\", add_special_tokens=False)\n",
    "\n",
    "# Convert token IDs to tensor and move it to the model's device\n",
    "tokens_tensor = torch.tensor([token_ids], device=model.device)\n",
    "with torch.no_grad():\n",
    "# Forward pass through the model\n",
    "outputs = model(tokens_tensor)\n",
    "# Retrieve the hidden states from the model output\n",
    "hidden_states = outputs[0]  # 'outputs' is a tuple, the first element is the hidden states\n",
    "\n",
    "# Averaging over the sequence length\n",
    "print(len((hidden_states[0].mean(dim=0))), (hidden_states[0].mean(dim=0)))\n",
    "'''"
   ]
  },
  {
   "cell_type": "markdown",
   "id": "58c07349",
   "metadata": {},
   "source": [
    "#### Saving embeddings"
   ]
  },
  {
   "cell_type": "code",
   "execution_count": 20,
   "id": "442bc2a2",
   "metadata": {},
   "outputs": [],
   "source": [
    "embedding_df = pd.DataFrame(embs)\n",
    "embedding_df.to_csv(f'/hadatasets/fillipe.silva/LLMSegm/data/{experiment_name}/{model_name.replace(\".pt\",\"\")}_test_embeddings.csv', index=False)"
   ]
  }
 ],
 "metadata": {
  "kernelspec": {
   "display_name": "Python 3 (ipykernel)",
   "language": "python",
   "name": "python3"
  },
  "language_info": {
   "codemirror_mode": {
    "name": "ipython",
    "version": 3
   },
   "file_extension": ".py",
   "mimetype": "text/x-python",
   "name": "python",
   "nbconvert_exporter": "python",
   "pygments_lexer": "ipython3",
   "version": "3.12.3"
  }
 },
 "nbformat": 4,
 "nbformat_minor": 5
}
