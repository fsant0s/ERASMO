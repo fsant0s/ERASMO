{
 "cells": [
  {
   "cell_type": "markdown",
   "metadata": {},
   "source": [
    "### Checking GPU availability"
   ]
  },
  {
   "cell_type": "code",
   "execution_count": null,
   "metadata": {},
   "outputs": [],
   "source": [
    "import torch\n",
    "if torch.cuda.is_available():   #checking if GPU is available\n",
    "    print(\"CUDA is available. Here are the CUDA devices:\") \n",
    "    for i in range(torch.cuda.device_count()):\n",
    "        print(f\"Device {i}: {torch.cuda.get_device_name(i)}\") #Print name of available GPUs"
   ]
  },
  {
   "cell_type": "code",
   "execution_count": 2,
   "metadata": {},
   "outputs": [],
   "source": [
    "import os\n",
    "os.chdir(os.path.dirname(os.path.abspath('.')))"
   ]
  },
  {
   "cell_type": "markdown",
   "metadata": {},
   "source": [
    "### Importing libraries"
   ]
  },
  {
   "cell_type": "code",
   "execution_count": 3,
   "metadata": {},
   "outputs": [],
   "source": [
    "from erasmo import Erasmo\n",
    "import pandas as pd\n",
    "import metrics"
   ]
  },
  {
   "cell_type": "markdown",
   "metadata": {},
   "source": [
    "### Loading Train and Test Datasets"
   ]
  },
  {
   "cell_type": "code",
   "execution_count": 4,
   "metadata": {},
   "outputs": [],
   "source": [
    "df_train = pd.read_csv(\"./notebook/data/train.csv\")\n",
    "df_test = pd.read_csv(\"./notebook/data/test.csv\")\n"
   ]
  },
  {
   "cell_type": "code",
   "execution_count": null,
   "metadata": {},
   "outputs": [],
   "source": [
    "df_train.head(1)"
   ]
  },
  {
   "cell_type": "markdown",
   "metadata": {},
   "source": [
    "# Erasmo Framework"
   ]
  },
  {
   "cell_type": "markdown",
   "metadata": {},
   "source": [
    "### Hyperparameters"
   ]
  },
  {
   "cell_type": "code",
   "execution_count": null,
   "metadata": {},
   "outputs": [],
   "source": [
    "model_name = \"gpt2-medium\"\n",
    "n_epochs = 2\n",
    "save_steps = 2000\n",
    "logging_steps = 300\n",
    "experiment_dir = \"./yelp\"\n",
    "batch_size = 8\n",
    "text_to_num = False"
   ]
  },
  {
   "cell_type": "markdown",
   "metadata": {},
   "source": [
    "### Erasmo base and NV"
   ]
  },
  {
   "cell_type": "code",
   "execution_count": null,
   "metadata": {},
   "outputs": [],
   "source": [
    "erasmo_base = Erasmo(\n",
    "    model_name,                     # Name of the large language model used (see HuggingFace for more options)\n",
    "    epochs=n_epochs,                # Number of epochs to train (only one epoch for demonstration)\n",
    "    save_steps=save_steps,          # Save model weights every x steps\n",
    "    logging_steps=logging_steps,    # Log the loss and learning rate every x steps\n",
    "    experiment_dir=experiment_dir,  # Name of the directory where all intermediate steps are saved\n",
    "    text_to_num=False,              # Convert text to numbers\n",
    "    batch_size=batch_size,          # Set the batch size\n",
    ")\n"
   ]
  },
  {
   "cell_type": "code",
   "execution_count": null,
   "metadata": {},
   "outputs": [],
   "source": [
    "erasmo_nv = Erasmo(\n",
    "    model_name,                     # Name of the large language model used (see HuggingFace for more options)\n",
    "    epochs=n_epochs,                # Number of epochs to train (only one epoch for demonstration)\n",
    "    save_steps=save_steps,          # Save model weights every x steps\n",
    "    logging_steps=logging_steps,    # Log the loss and learning rate every x steps\n",
    "    experiment_dir=experiment_dir,  # Name of the directory where all intermediate steps are saved\n",
    "    text_to_num=True,               # Convert text to numbers\n",
    "    batch_size=batch_size,          # Set the batch size\n",
    ")"
   ]
  },
  {
   "cell_type": "markdown",
   "metadata": {},
   "source": [
    "### Training"
   ]
  },
  {
   "cell_type": "code",
   "execution_count": null,
   "metadata": {},
   "outputs": [],
   "source": [
    "trainer_base = erasmo_base.fit(df_train)"
   ]
  },
  {
   "cell_type": "code",
   "execution_count": null,
   "metadata": {},
   "outputs": [],
   "source": [
    "trainer_nv = erasmo_nv.fit(df_train)"
   ]
  },
  {
   "cell_type": "markdown",
   "metadata": {},
   "source": [
    "### Generating Embeddings from last layer"
   ]
  },
  {
   "cell_type": "code",
   "execution_count": null,
   "metadata": {},
   "outputs": [],
   "source": [
    "embedding_base = erasmo_base.generate_embeddings_from_last_layer(df_test)"
   ]
  },
  {
   "cell_type": "code",
   "execution_count": null,
   "metadata": {},
   "outputs": [],
   "source": [
    "embedding_nv = erasmo_nv.generate_embeddings_from_last_layer(df_test)"
   ]
  },
  {
   "cell_type": "markdown",
   "metadata": {},
   "source": [
    "### Clustering Quality Assessment"
   ]
  },
  {
   "cell_type": "code",
   "execution_count": 34,
   "metadata": {},
   "outputs": [],
   "source": [
    "results_base = metrics.clustering_quality_assessment(data=embedding_base, dataset_name='yelp_base', n_clusters=2)\n",
    "results_base"
   ]
  },
  {
   "cell_type": "code",
   "execution_count": null,
   "metadata": {},
   "outputs": [],
   "source": [
    "results_nv = metrics.clustering_quality_assessment(data=embedding_nv, dataset_name='yelp_nv', n_clusters=2)\n",
    "results_nv"
   ]
  }
 ],
 "metadata": {
  "kernelspec": {
   "display_name": "erasmos",
   "language": "python",
   "name": "python3"
  },
  "language_info": {
   "codemirror_mode": {
    "name": "ipython",
    "version": 3
   },
   "file_extension": ".py",
   "mimetype": "text/x-python",
   "name": "python",
   "nbconvert_exporter": "python",
   "pygments_lexer": "ipython3",
   "version": "3.11.9"
  }
 },
 "nbformat": 4,
 "nbformat_minor": 2
}
