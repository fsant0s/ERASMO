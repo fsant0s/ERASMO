{
 "cells": [
  {
   "cell_type": "markdown",
   "id": "returning-diversity",
   "metadata": {},
   "source": [
    "### Import packages and set config"
   ]
  },
  {
   "cell_type": "code",
   "execution_count": null,
   "id": "b4fe10b6",
   "metadata": {},
   "outputs": [],
   "source": [
    "# runn it only once. \n",
    "# It will change the current directory to the root of the project\n",
    "import os\n",
    "os.chdir(os.path.dirname(os.path.abspath('.')))"
   ]
  },
  {
   "cell_type": "code",
   "execution_count": null,
   "id": "false-magnitude",
   "metadata": {},
   "outputs": [],
   "source": [
    "import pandas as pd\n",
    "import numpy as np\n",
    "\n",
    "from metrics import evaluate_clustering_performance\n",
    "from plots import plot_si_da_ca, plot_tsne"
   ]
  },
  {
   "cell_type": "code",
   "execution_count": null,
   "id": "3cbf01d2",
   "metadata": {},
   "outputs": [],
   "source": [
    "olist = pd.read_csv(\"/hadatasets/fillipe.silva/LLMSegm/data/olist/train_rfm.csv\")\n",
    "olist.head()"
   ]
  },
  {
   "cell_type": "code",
   "execution_count": null,
   "id": "2d484018",
   "metadata": {},
   "outputs": [],
   "source": [
    "df = pd.read_csv(\"/hadatasets/fillipe.silva/LLMSegm/data/banking/train.csv\")\n",
    "df.head()"
   ]
  },
  {
   "cell_type": "code",
   "execution_count": null,
   "id": "ef53946b",
   "metadata": {},
   "outputs": [],
   "source": [
    "from erasmo import Erasmo\n",
    "#Hyperparameters\n",
    "model_name = \"gpt2-medium\"\n",
    "n_epochs = 1\n",
    "save_steps = 2000\n",
    "logging_steps = 300\n",
    "experiment_dir = \"olist\"\n",
    "batch_size = 16\n",
    "tokenizermax_length = 256\n",
    "#-----------------------------------------------\n",
    "\n",
    "#-----------------------------------------------\n",
    "erasmo = Erasmo(model_name,                       # Name of the large language model used (see HuggingFace for more options)\n",
    "              epochs=n_epochs,                             # Number of epochs to train (only one epoch for demonstration)\n",
    "              save_steps=save_steps,                      # Save model weights every x steps\n",
    "              logging_steps=logging_steps,                     # Log the loss and learning rate every x steps\n",
    "              experiment_dir=experiment_dir,               # Name of the directory where all intermediate steps are saved\n",
    "              text_to_num=True,                    # Convert text to numbers\n",
    "              batch_size=batch_size,                      # Set the batch size\n",
    "              tokenizermax_length=tokenizermax_length,            # Set the maximum length of the input text\n",
    "              #lr_scheduler_type=\"constant\",        # Specify the learning rate scheduler \n",
    "              #learning_rate=5e-5 ,                 # Set the inital learning rate\n",
    ")\n",
    "trainer = erasmo.fit(df)"
   ]
  },
  {
   "cell_type": "code",
   "execution_count": null,
   "id": "e18b6f72",
   "metadata": {},
   "outputs": [],
   "source": [
    "from erasmo import Erasmo\n",
    "#Hyperparameters\n",
    "model_name = \"gpt2-medium\"\n",
    "n_epochs = 1\n",
    "save_steps = 2000\n",
    "logging_steps = 300\n",
    "experiment_dir = \"olist\"\n",
    "batch_size = 16\n",
    "tokenizermax_length = 256\n",
    "#-----------------------------------------------\n",
    "\n",
    "#-----------------------------------------------\n",
    "erasmo = Erasmo(model_name,                       # Name of the large language model used (see HuggingFace for more options)\n",
    "              epochs=n_epochs,                             # Number of epochs to train (only one epoch for demonstration)\n",
    "              save_steps=save_steps,                      # Save model weights every x steps\n",
    "              logging_steps=logging_steps,                     # Log the loss and learning rate every x steps\n",
    "              experiment_dir=experiment_dir,               # Name of the directory where all intermediate steps are saved\n",
    "              text_to_num=False,                    # Convert text to numbers\n",
    "              batch_size=batch_size,                      # Set the batch size\n",
    "              tokenizermax_length=tokenizermax_length,            # Set the maximum length of the input text\n",
    "              #lr_scheduler_type=\"constant\",        # Specify the learning rate scheduler \n",
    "              #learning_rate=5e-5 ,                 # Set the inital learning rate\n",
    ")\n",
    "trainer = erasmo.fit(olist)"
   ]
  }
 ],
 "metadata": {
  "kernelspec": {
   "display_name": "Python 3 (ipykernel)",
   "language": "python",
   "name": "python3"
  },
  "language_info": {
   "codemirror_mode": {
    "name": "ipython",
    "version": 3
   },
   "file_extension": ".py",
   "mimetype": "text/x-python",
   "name": "python",
   "nbconvert_exporter": "python",
   "pygments_lexer": "ipython3",
   "version": "3.12.3"
  }
 },
 "nbformat": 4,
 "nbformat_minor": 5
}
