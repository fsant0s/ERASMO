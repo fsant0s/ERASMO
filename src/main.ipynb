{
 "cells": [
  {
   "cell_type": "markdown",
   "id": "d8013313",
   "metadata": {},
   "source": [
    "## Erasmo - Olist Dataset"
   ]
  },
  {
   "cell_type": "code",
   "execution_count": 6,
   "id": "0a4762cc",
   "metadata": {},
   "outputs": [],
   "source": [
    "from erasmo import Erasmo\n",
    "import matplotlib.pyplot as plt\n",
    "\n",
    "import pandas as pd\n",
    "import sys\n",
    "import os\n",
    "import logging\n",
    "import torch"
   ]
  },
  {
   "cell_type": "code",
   "execution_count": 11,
   "id": "1558fb87",
   "metadata": {},
   "outputs": [],
   "source": [
    "data = pd.read_csv(\"/hadatasets/fillipe.silva/LLMSegm/data/olist/train_rfm.csv\")\n",
    "data_to_embd = pd.read_csv(\"/hadatasets/fillipe.silva/LLMSegm/data/olist/test_rfm.csv\").sample(2)"
   ]
  },
  {
   "cell_type": "code",
   "execution_count": 8,
   "id": "b2a30c2d",
   "metadata": {},
   "outputs": [],
   "source": [
    "#Hyperparameters\n",
    "model_name = \"distilgpt2\"\n",
    "n_epochs = 1\n",
    "save_steps = 2000\n",
    "logging_steps = 300\n",
    "experiment_dir = \"olist\"\n",
    "batch_size = 16\n",
    "tokenizermax_length = 256"
   ]
  },
  {
   "cell_type": "code",
   "execution_count": 9,
   "id": "1004a312",
   "metadata": {},
   "outputs": [
    {
     "name": "stderr",
     "output_type": "stream",
     "text": [
      "/home/fillipe.silva/miniconda3/envs/erasmo/lib/python3.12/site-packages/huggingface_hub/file_download.py:1132: FutureWarning: `resume_download` is deprecated and will be removed in version 1.0.0. Downloads always resume when possible. If you want to force a new download, use `force_download=True`.\n",
      "  warnings.warn(\n",
      "You're using a GPT2TokenizerFast tokenizer. Please note that with a fast tokenizer, using the `__call__` method is faster than using a method to encode the text followed by a call to the `pad` method to get a padded encoding.\n",
      "/home/fillipe.silva/miniconda3/envs/erasmo/lib/python3.12/site-packages/torch/nn/parallel/_functions.py:68: UserWarning: Was asked to gather along dimension 0, but all input tensors were scalars; will instead unsqueeze and return a vector.\n",
      "  warnings.warn('Was asked to gather along dimension 0, but all '\n"
     ]
    },
    {
     "data": {
      "text/html": [
       "\n",
       "    <div>\n",
       "      \n",
       "      <progress value='759' max='759' style='width:300px; height:20px; vertical-align: middle;'></progress>\n",
       "      [759/759 02:57, Epoch 1/1]\n",
       "    </div>\n",
       "    <table border=\"1\" class=\"dataframe\">\n",
       "  <thead>\n",
       " <tr style=\"text-align: left;\">\n",
       "      <th>Step</th>\n",
       "      <th>Training Loss</th>\n",
       "    </tr>\n",
       "  </thead>\n",
       "  <tbody>\n",
       "    <tr>\n",
       "      <td>300</td>\n",
       "      <td>0.737200</td>\n",
       "    </tr>\n",
       "    <tr>\n",
       "      <td>600</td>\n",
       "      <td>0.567900</td>\n",
       "    </tr>\n",
       "  </tbody>\n",
       "</table><p>"
      ],
      "text/plain": [
       "<IPython.core.display.HTML object>"
      ]
     },
     "metadata": {},
     "output_type": "display_data"
    }
   ],
   "source": [
    "erasmo = Erasmo(model_name,                       # Name of the large language model used (see HuggingFace for more options)\n",
    "              epochs=n_epochs,                             # Number of epochs to train (only one epoch for demonstration)\n",
    "              save_steps=save_steps,                      # Save model weights every x steps\n",
    "              logging_steps=logging_steps,                     # Log the loss and learning rate every x steps\n",
    "              experiment_dir=experiment_dir,               # Name of the directory where all intermediate steps are saved\n",
    "              text_to_num=True,                    # Convert text to numbers\n",
    "              batch_size=batch_size,                      # Set the batch size\n",
    "              tokenizermax_length=tokenizermax_length,            # Set the maximum length of the input text\n",
    "              #lr_scheduler_type=\"constant\",        # Specify the learning rate scheduler \n",
    "              #learning_rate=5e-5 ,                 # Set the inital learning rate\n",
    "             )\n",
    "\n",
    "trainer = erasmo.fit(data)"
   ]
  },
  {
   "cell_type": "code",
   "execution_count": 12,
   "id": "62ca5792",
   "metadata": {},
   "outputs": [
    {
     "name": "stderr",
     "output_type": "stream",
     "text": [
      "  0%|          | 0/2 [00:00<?, ?it/s]"
     ]
    },
    {
     "name": "stderr",
     "output_type": "stream",
     "text": [
      "100%|██████████| 2/2 [00:00<00:00, 94.05it/s]\n"
     ]
    },
    {
     "data": {
      "text/plain": [
       "[array([-60.264824, -59.210526, -62.218964, ..., -68.0661  , -68.14733 ,\n",
       "        -50.52039 ], dtype=float32),\n",
       " array([-60.894436, -60.44921 , -61.80055 , ..., -68.294914, -69.18265 ,\n",
       "        -51.68838 ], dtype=float32)]"
      ]
     },
     "execution_count": 12,
     "metadata": {},
     "output_type": "execute_result"
    }
   ],
   "source": [
    "erasmo.generate_embeddins_from_all_layers(data_to_embd)"
   ]
  },
  {
   "cell_type": "code",
   "execution_count": 13,
   "id": "2be7214c",
   "metadata": {},
   "outputs": [],
   "source": [
    "embedding_df = pd.read_csv('/work/fillipe.silva/projects/ERASMO/src/olist_distilgpt2_1_True/embeddins_from_all_layers.csv')"
   ]
  },
  {
   "cell_type": "code",
   "execution_count": 14,
   "id": "0dccd45f",
   "metadata": {},
   "outputs": [
    {
     "data": {
      "text/html": [
       "<div>\n",
       "<style scoped>\n",
       "    .dataframe tbody tr th:only-of-type {\n",
       "        vertical-align: middle;\n",
       "    }\n",
       "\n",
       "    .dataframe tbody tr th {\n",
       "        vertical-align: top;\n",
       "    }\n",
       "\n",
       "    .dataframe thead th {\n",
       "        text-align: right;\n",
       "    }\n",
       "</style>\n",
       "<table border=\"1\" class=\"dataframe\">\n",
       "  <thead>\n",
       "    <tr style=\"text-align: right;\">\n",
       "      <th></th>\n",
       "      <th>0</th>\n",
       "      <th>1</th>\n",
       "      <th>2</th>\n",
       "      <th>3</th>\n",
       "      <th>4</th>\n",
       "      <th>5</th>\n",
       "      <th>6</th>\n",
       "      <th>7</th>\n",
       "      <th>8</th>\n",
       "      <th>9</th>\n",
       "      <th>...</th>\n",
       "      <th>50247</th>\n",
       "      <th>50248</th>\n",
       "      <th>50249</th>\n",
       "      <th>50250</th>\n",
       "      <th>50251</th>\n",
       "      <th>50252</th>\n",
       "      <th>50253</th>\n",
       "      <th>50254</th>\n",
       "      <th>50255</th>\n",
       "      <th>50256</th>\n",
       "    </tr>\n",
       "  </thead>\n",
       "  <tbody>\n",
       "    <tr>\n",
       "      <th>0</th>\n",
       "      <td>-60.264824</td>\n",
       "      <td>-59.210526</td>\n",
       "      <td>-62.218964</td>\n",
       "      <td>-61.375750</td>\n",
       "      <td>-61.702106</td>\n",
       "      <td>-63.967022</td>\n",
       "      <td>-59.165398</td>\n",
       "      <td>-60.791397</td>\n",
       "      <td>-59.90593</td>\n",
       "      <td>-61.543247</td>\n",
       "      <td>...</td>\n",
       "      <td>-65.24466</td>\n",
       "      <td>-63.708122</td>\n",
       "      <td>-68.98061</td>\n",
       "      <td>-67.18397</td>\n",
       "      <td>-66.981964</td>\n",
       "      <td>-65.713990</td>\n",
       "      <td>-70.30857</td>\n",
       "      <td>-68.066100</td>\n",
       "      <td>-68.14733</td>\n",
       "      <td>-50.52039</td>\n",
       "    </tr>\n",
       "    <tr>\n",
       "      <th>1</th>\n",
       "      <td>-60.894436</td>\n",
       "      <td>-60.449210</td>\n",
       "      <td>-61.800550</td>\n",
       "      <td>-61.471798</td>\n",
       "      <td>-61.329860</td>\n",
       "      <td>-63.112320</td>\n",
       "      <td>-59.801040</td>\n",
       "      <td>-60.354990</td>\n",
       "      <td>-59.69291</td>\n",
       "      <td>-60.643204</td>\n",
       "      <td>...</td>\n",
       "      <td>-65.53376</td>\n",
       "      <td>-64.446440</td>\n",
       "      <td>-68.65745</td>\n",
       "      <td>-66.88999</td>\n",
       "      <td>-67.737050</td>\n",
       "      <td>-65.308334</td>\n",
       "      <td>-71.17640</td>\n",
       "      <td>-68.294914</td>\n",
       "      <td>-69.18265</td>\n",
       "      <td>-51.68838</td>\n",
       "    </tr>\n",
       "  </tbody>\n",
       "</table>\n",
       "<p>2 rows × 50257 columns</p>\n",
       "</div>"
      ],
      "text/plain": [
       "           0          1          2          3          4          5  \\\n",
       "0 -60.264824 -59.210526 -62.218964 -61.375750 -61.702106 -63.967022   \n",
       "1 -60.894436 -60.449210 -61.800550 -61.471798 -61.329860 -63.112320   \n",
       "\n",
       "           6          7         8          9  ...     50247      50248  \\\n",
       "0 -59.165398 -60.791397 -59.90593 -61.543247  ... -65.24466 -63.708122   \n",
       "1 -59.801040 -60.354990 -59.69291 -60.643204  ... -65.53376 -64.446440   \n",
       "\n",
       "      50249     50250      50251      50252     50253      50254     50255  \\\n",
       "0 -68.98061 -67.18397 -66.981964 -65.713990 -70.30857 -68.066100 -68.14733   \n",
       "1 -68.65745 -66.88999 -67.737050 -65.308334 -71.17640 -68.294914 -69.18265   \n",
       "\n",
       "      50256  \n",
       "0 -50.52039  \n",
       "1 -51.68838  \n",
       "\n",
       "[2 rows x 50257 columns]"
      ]
     },
     "execution_count": 14,
     "metadata": {},
     "output_type": "execute_result"
    }
   ],
   "source": [
    "embedding_df.head()"
   ]
  }
 ],
 "metadata": {
  "kernelspec": {
   "display_name": "Python 3 (ipykernel)",
   "language": "python",
   "name": "python3"
  },
  "language_info": {
   "codemirror_mode": {
    "name": "ipython",
    "version": 3
   },
   "file_extension": ".py",
   "mimetype": "text/x-python",
   "name": "python",
   "nbconvert_exporter": "python",
   "pygments_lexer": "ipython3",
   "version": "3.12.3"
  }
 },
 "nbformat": 4,
 "nbformat_minor": 5
}
